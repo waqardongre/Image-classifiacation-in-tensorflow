{
  "nbformat": 4,
  "nbformat_minor": 0,
  "metadata": {
    "colab": {
      "name": "Animal_Image_classification_using_CNNs_by_Mo_Waqar_Zulfeqar_Dongre (5).ipynb",
      "provenance": [],
      "collapsed_sections": []
    },
    "kernelspec": {
      "name": "python3",
      "display_name": "Python 3"
    },
    "accelerator": "GPU"
  },
  "cells": [
    {
      "cell_type": "markdown",
      "metadata": {
        "id": "EMefrVPCg-60"
      },
      "source": [
        "### Importing the libraries"
      ]
    },
    {
      "cell_type": "code",
      "metadata": {
        "id": "sCV30xyVhFbE"
      },
      "source": [
        "from google.colab import drive\n",
        "import tensorflow as tf\n",
        "from keras.preprocessing.image import ImageDataGenerator\n",
        "import numpy as np\n",
        "from keras.preprocessing import image"
      ],
      "execution_count": 5,
      "outputs": []
    },
    {
      "cell_type": "code",
      "source": [
        "drive.mount('/content/drive')"
      ],
      "metadata": {
        "colab": {
          "base_uri": "https://localhost:8080/"
        },
        "id": "konugxab3xXd",
        "outputId": "14f8c93d-b06d-4435-f480-b8a29f35bd1f"
      },
      "execution_count": 6,
      "outputs": [
        {
          "output_type": "stream",
          "name": "stdout",
          "text": [
            "Mounted at /content/drive\n"
          ]
        }
      ]
    },
    {
      "cell_type": "code",
      "metadata": {
        "id": "FIleuCAjoFD8",
        "colab": {
          "base_uri": "https://localhost:8080/",
          "height": 35
        },
        "outputId": "835c5750-782b-404d-b7de-12921298a5aa"
      },
      "source": [
        "tf.__version__"
      ],
      "execution_count": 7,
      "outputs": [
        {
          "output_type": "execute_result",
          "data": {
            "text/plain": [
              "'2.8.0'"
            ],
            "application/vnd.google.colaboratory.intrinsic+json": {
              "type": "string"
            }
          },
          "metadata": {},
          "execution_count": 7
        }
      ]
    },
    {
      "cell_type": "markdown",
      "metadata": {
        "id": "oxQxCBWyoGPE"
      },
      "source": [
        "## Part 1 - Data Preprocessing"
      ]
    },
    {
      "cell_type": "markdown",
      "metadata": {
        "id": "MvE-heJNo3GG"
      },
      "source": [
        "### Preprocessing the Training set"
      ]
    },
    {
      "cell_type": "code",
      "source": [
        "main_path = '/content/drive/MyDrive/DSs/CV_DS_1/P16-Convolutional-Neural-Networks/Part 2 - Convolutional Neural Networks/dataset/' # dowa\n",
        "#main_path = '/content/drive/MyDrive/DS/CV_DS_1/P16-Convolutional-Neural-Networks/Part 2 - Convolutional Neural Networks/dataset/' # wazu\n",
        "#main_path = '/content/drive/MyDrive/DSs/CV_DS_1/P16-Convolutional-Neural-Networks/Part 2 - Convolutional Neural Networks/dataset/' # went"
      ],
      "metadata": {
        "id": "zL3Z277t4bT9"
      },
      "execution_count": 8,
      "outputs": []
    },
    {
      "cell_type": "code",
      "source": [
        "image_size = 128\n",
        "batch_size = 32"
      ],
      "metadata": {
        "id": "rk6jfdpecR_e"
      },
      "execution_count": 9,
      "outputs": []
    },
    {
      "cell_type": "code",
      "metadata": {
        "id": "0koUcJMJpEBD",
        "colab": {
          "base_uri": "https://localhost:8080/"
        },
        "outputId": "e079d4cd-39b0-44eb-9518-8a5e55148593"
      },
      "source": [
        "train_datagen = ImageDataGenerator(rescale = 1./255,\n",
        "                                   shear_range = 0.2,\n",
        "                                   zoom_range = 0.2,\n",
        "                                   horizontal_flip = True)\n",
        "training_set = train_datagen.flow_from_directory(main_path + 'training_set',\n",
        "                                                 target_size = (image_size, image_size),\n",
        "                                                 batch_size = batch_size,\n",
        "                                                 class_mode = 'binary')"
      ],
      "execution_count": 10,
      "outputs": [
        {
          "output_type": "stream",
          "name": "stdout",
          "text": [
            "Found 8000 images belonging to 2 classes.\n"
          ]
        }
      ]
    },
    {
      "cell_type": "markdown",
      "metadata": {
        "id": "mrCMmGw9pHys"
      },
      "source": [
        "### Preprocessing the Test set"
      ]
    },
    {
      "cell_type": "code",
      "metadata": {
        "id": "SH4WzfOhpKc3",
        "colab": {
          "base_uri": "https://localhost:8080/"
        },
        "outputId": "19759701-b24d-4e0f-e7ef-bd192b0bd5cd"
      },
      "source": [
        "test_datagen = ImageDataGenerator(rescale = 1./255)\n",
        "test_set = test_datagen.flow_from_directory(main_path + 'test_set',\n",
        "                                            target_size = (image_size, image_size),\n",
        "                                            batch_size = batch_size,\n",
        "                                            class_mode = 'binary')"
      ],
      "execution_count": 11,
      "outputs": [
        {
          "output_type": "stream",
          "name": "stdout",
          "text": [
            "Found 2000 images belonging to 2 classes.\n"
          ]
        }
      ]
    },
    {
      "cell_type": "markdown",
      "metadata": {
        "id": "af8O4l90gk7B"
      },
      "source": [
        "## Part 2 - Building the CNN"
      ]
    },
    {
      "cell_type": "markdown",
      "metadata": {
        "id": "ces1gXY2lmoX"
      },
      "source": [
        "### Initialising the CNN"
      ]
    },
    {
      "cell_type": "code",
      "metadata": {
        "id": "SAUt4UMPlhLS"
      },
      "source": [
        "cnn = tf.keras.models.Sequential()"
      ],
      "execution_count": 64,
      "outputs": []
    },
    {
      "cell_type": "markdown",
      "metadata": {
        "id": "u5YJj_XMl5LF"
      },
      "source": [
        "### Step 1 - Convolution"
      ]
    },
    {
      "cell_type": "code",
      "metadata": {
        "id": "XPzPrMckl-hV"
      },
      "source": [
        "cnn.add(tf.keras.layers.Conv2D(filters=32, kernel_size=3, activation='relu', input_shape=[image_size, image_size, 3]))"
      ],
      "execution_count": 65,
      "outputs": []
    },
    {
      "cell_type": "markdown",
      "metadata": {
        "id": "tf87FpvxmNOJ"
      },
      "source": [
        "### Step 2 - Pooling"
      ]
    },
    {
      "cell_type": "code",
      "metadata": {
        "id": "ncpqPl69mOac"
      },
      "source": [
        "cnn.add(tf.keras.layers.MaxPool2D(pool_size=2, strides=2))"
      ],
      "execution_count": 66,
      "outputs": []
    },
    {
      "cell_type": "markdown",
      "metadata": {
        "id": "xaTOgD8rm4mU"
      },
      "source": [
        "### Adding a second convolutional layer"
      ]
    },
    {
      "cell_type": "code",
      "metadata": {
        "id": "i_-FZjn_m8gk"
      },
      "source": [
        "cnn.add(tf.keras.layers.Conv2D(filters=32, kernel_size=3, activation='relu'))\n",
        "cnn.add(tf.keras.layers.MaxPool2D(pool_size=2, strides=2))"
      ],
      "execution_count": 67,
      "outputs": []
    },
    {
      "cell_type": "markdown",
      "source": [
        "### Adding a third convolutional layer"
      ],
      "metadata": {
        "id": "girAZADtvDej"
      }
    },
    {
      "cell_type": "code",
      "source": [
        "cnn.add(tf.keras.layers.Conv2D(filters=32, kernel_size=3, activation='relu'))\n",
        "cnn.add(tf.keras.layers.MaxPool2D(pool_size=2, strides=2))"
      ],
      "metadata": {
        "id": "f3HuZcwuvA0f"
      },
      "execution_count": 68,
      "outputs": []
    },
    {
      "cell_type": "markdown",
      "source": [
        "### Adding a fourth convolutional layer"
      ],
      "metadata": {
        "id": "TfjrYeqKsISR"
      }
    },
    {
      "cell_type": "code",
      "source": [
        "cnn.add(tf.keras.layers.Conv2D(filters=32, kernel_size=3, activation='relu'))\n",
        "cnn.add(tf.keras.layers.MaxPool2D(pool_size=2, strides=2))"
      ],
      "metadata": {
        "id": "_xscUTGfsIYP"
      },
      "execution_count": 69,
      "outputs": []
    },
    {
      "cell_type": "markdown",
      "source": [
        "### Adding a fifth convolutional layer"
      ],
      "metadata": {
        "id": "XNE1iHwIsYHa"
      }
    },
    {
      "cell_type": "code",
      "source": [
        "cnn.add(tf.keras.layers.Conv2D(filters=32, kernel_size=3, activation='relu'))\n",
        "cnn.add(tf.keras.layers.MaxPool2D(pool_size=2, strides=2))"
      ],
      "metadata": {
        "id": "rurriR-hsYHh"
      },
      "execution_count": 70,
      "outputs": []
    },
    {
      "cell_type": "markdown",
      "metadata": {
        "id": "tmiEuvTunKfk"
      },
      "source": [
        "### Step 3 - Flattening and batch normalization"
      ]
    },
    {
      "cell_type": "code",
      "metadata": {
        "id": "6AZeOGCvnNZn"
      },
      "source": [
        "cnn.add(tf.keras.layers.Flatten())\n",
        "cnn.add(tf.keras.layers.BatchNormalization())"
      ],
      "execution_count": 71,
      "outputs": []
    },
    {
      "cell_type": "markdown",
      "metadata": {
        "id": "dAoSECOm203v"
      },
      "source": [
        "### Step 4 - 2 Full Connections/dropouts"
      ]
    },
    {
      "cell_type": "code",
      "metadata": {
        "id": "8GtmUlLd26Nq"
      },
      "source": [
        "cnn.add(tf.keras.layers.Dense(units = 60, activation = 'relu'))\n",
        "cnn.add(tf.keras.layers.Dropout(0.5))\n",
        "cnn.add(tf.keras.layers.Dense(units = 40, activation = 'relu'))\n",
        "cnn.add(tf.keras.layers.Dropout(0.5))"
      ],
      "execution_count": 72,
      "outputs": []
    },
    {
      "cell_type": "markdown",
      "metadata": {
        "id": "yTldFvbX28Na"
      },
      "source": [
        "### Step 5 - Output Layer"
      ]
    },
    {
      "cell_type": "code",
      "metadata": {
        "id": "1p_Zj1Mc3Ko_"
      },
      "source": [
        "cnn.add(tf.keras.layers.Dense(units=1, activation='sigmoid'))"
      ],
      "execution_count": 73,
      "outputs": []
    },
    {
      "cell_type": "markdown",
      "metadata": {
        "id": "D6XkI90snSDl"
      },
      "source": [
        "## Part 3 - Training the CNN"
      ]
    },
    {
      "cell_type": "markdown",
      "metadata": {
        "id": "vfrFQACEnc6i"
      },
      "source": [
        "### Compiling the CNN"
      ]
    },
    {
      "cell_type": "code",
      "metadata": {
        "id": "NALksrNQpUlJ"
      },
      "source": [
        "cnn.compile(optimizer = 'adam', loss = 'binary_crossentropy', metrics = ['accuracy'])"
      ],
      "execution_count": 74,
      "outputs": []
    },
    {
      "cell_type": "markdown",
      "source": [
        "### Callbacks"
      ],
      "metadata": {
        "id": "_zzwxP-YSIcJ"
      }
    },
    {
      "cell_type": "code",
      "source": [
        "early_stopper = tf.keras.callbacks.EarlyStopping(monitor='val_accuracy', patience=20)\n",
        "\n",
        "model_save_path = main_path + \"model_save/weights-{epoch:02d}-{val_accuracy:.2f}.h5\"\n",
        "model_check_point = tf.keras.callbacks.ModelCheckpoint(filepath=model_save_path, monitor='val_accuracy', verbose=1, save_best_only=True, mode='auto')"
      ],
      "metadata": {
        "id": "TpprDLYGSMJ2"
      },
      "execution_count": 75,
      "outputs": []
    },
    {
      "cell_type": "markdown",
      "metadata": {
        "id": "ehS-v3MIpX2h"
      },
      "source": [
        "### Training the CNN on the Training set and evaluating it on the Test set"
      ]
    },
    {
      "cell_type": "code",
      "metadata": {
        "id": "XUj1W4PJptta",
        "colab": {
          "base_uri": "https://localhost:8080/"
        },
        "outputId": "c0b890ab-28cb-403d-b29f-5f6ac3167dae"
      },
      "source": [
        "cnn.fit(x = training_set, validation_data = test_set, epochs = 100, callbacks = [model_check_point, early_stopper])"
      ],
      "execution_count": null,
      "outputs": [
        {
          "output_type": "stream",
          "name": "stdout",
          "text": [
            "Epoch 1/100\n",
            "250/250 [==============================] - ETA: 0s - loss: 0.6851 - accuracy: 0.5642\n",
            "Epoch 1: val_accuracy improved from -inf to 0.50050, saving model to /content/drive/MyDrive/DSs/CV_DS_1/P16-Convolutional-Neural-Networks/Part 2 - Convolutional Neural Networks/dataset/model_save/weights-01-0.50.h5\n",
            "250/250 [==============================] - 87s 342ms/step - loss: 0.6851 - accuracy: 0.5642 - val_loss: 0.6902 - val_accuracy: 0.5005\n",
            "Epoch 2/100\n",
            "250/250 [==============================] - ETA: 0s - loss: 0.6409 - accuracy: 0.6464\n",
            "Epoch 2: val_accuracy improved from 0.50050 to 0.63200, saving model to /content/drive/MyDrive/DSs/CV_DS_1/P16-Convolutional-Neural-Networks/Part 2 - Convolutional Neural Networks/dataset/model_save/weights-02-0.63.h5\n",
            "250/250 [==============================] - 80s 322ms/step - loss: 0.6409 - accuracy: 0.6464 - val_loss: 0.6301 - val_accuracy: 0.6320\n",
            "Epoch 3/100\n",
            "250/250 [==============================] - ETA: 0s - loss: 0.6158 - accuracy: 0.6781\n",
            "Epoch 3: val_accuracy did not improve from 0.63200\n",
            "250/250 [==============================] - 79s 314ms/step - loss: 0.6158 - accuracy: 0.6781 - val_loss: 0.6382 - val_accuracy: 0.6285\n",
            "Epoch 4/100\n",
            "250/250 [==============================] - ETA: 0s - loss: 0.5779 - accuracy: 0.7104\n",
            "Epoch 4: val_accuracy improved from 0.63200 to 0.74200, saving model to /content/drive/MyDrive/DSs/CV_DS_1/P16-Convolutional-Neural-Networks/Part 2 - Convolutional Neural Networks/dataset/model_save/weights-04-0.74.h5\n",
            "250/250 [==============================] - 82s 329ms/step - loss: 0.5779 - accuracy: 0.7104 - val_loss: 0.5390 - val_accuracy: 0.7420\n",
            "Epoch 5/100\n",
            "250/250 [==============================] - ETA: 0s - loss: 0.5508 - accuracy: 0.7300\n",
            "Epoch 5: val_accuracy did not improve from 0.74200\n",
            "250/250 [==============================] - 80s 322ms/step - loss: 0.5508 - accuracy: 0.7300 - val_loss: 1.4431 - val_accuracy: 0.5170\n",
            "Epoch 6/100\n",
            "250/250 [==============================] - ETA: 0s - loss: 0.5460 - accuracy: 0.7379\n",
            "Epoch 6: val_accuracy did not improve from 0.74200\n",
            "250/250 [==============================] - 83s 332ms/step - loss: 0.5460 - accuracy: 0.7379 - val_loss: 0.7014 - val_accuracy: 0.6175\n",
            "Epoch 7/100\n",
            "250/250 [==============================] - ETA: 0s - loss: 0.5255 - accuracy: 0.7536\n",
            "Epoch 7: val_accuracy did not improve from 0.74200\n",
            "250/250 [==============================] - 81s 325ms/step - loss: 0.5255 - accuracy: 0.7536 - val_loss: 0.9660 - val_accuracy: 0.5290\n",
            "Epoch 8/100\n",
            "250/250 [==============================] - ETA: 0s - loss: 0.5115 - accuracy: 0.7604\n",
            "Epoch 8: val_accuracy improved from 0.74200 to 0.75900, saving model to /content/drive/MyDrive/DSs/CV_DS_1/P16-Convolutional-Neural-Networks/Part 2 - Convolutional Neural Networks/dataset/model_save/weights-08-0.76.h5\n",
            "250/250 [==============================] - 82s 329ms/step - loss: 0.5115 - accuracy: 0.7604 - val_loss: 0.5156 - val_accuracy: 0.7590\n",
            "Epoch 9/100\n",
            "250/250 [==============================] - ETA: 0s - loss: 0.4957 - accuracy: 0.7731\n",
            "Epoch 9: val_accuracy did not improve from 0.75900\n",
            "250/250 [==============================] - 81s 323ms/step - loss: 0.4957 - accuracy: 0.7731 - val_loss: 0.7206 - val_accuracy: 0.6520\n",
            "Epoch 10/100\n",
            "250/250 [==============================] - ETA: 0s - loss: 0.4814 - accuracy: 0.7780\n",
            "Epoch 10: val_accuracy did not improve from 0.75900\n",
            "250/250 [==============================] - 80s 321ms/step - loss: 0.4814 - accuracy: 0.7780 - val_loss: 0.5584 - val_accuracy: 0.7190\n",
            "Epoch 11/100\n",
            "250/250 [==============================] - ETA: 0s - loss: 0.4699 - accuracy: 0.7943\n",
            "Epoch 11: val_accuracy improved from 0.75900 to 0.80200, saving model to /content/drive/MyDrive/DSs/CV_DS_1/P16-Convolutional-Neural-Networks/Part 2 - Convolutional Neural Networks/dataset/model_save/weights-11-0.80.h5\n",
            "250/250 [==============================] - 81s 322ms/step - loss: 0.4699 - accuracy: 0.7943 - val_loss: 0.4353 - val_accuracy: 0.8020\n",
            "Epoch 12/100\n",
            "250/250 [==============================] - ETA: 0s - loss: 0.4532 - accuracy: 0.8024\n",
            "Epoch 12: val_accuracy did not improve from 0.80200\n",
            "250/250 [==============================] - 81s 322ms/step - loss: 0.4532 - accuracy: 0.8024 - val_loss: 0.7335 - val_accuracy: 0.6325\n",
            "Epoch 13/100\n",
            "250/250 [==============================] - ETA: 0s - loss: 0.4455 - accuracy: 0.8031\n",
            "Epoch 13: val_accuracy improved from 0.80200 to 0.84850, saving model to /content/drive/MyDrive/DSs/CV_DS_1/P16-Convolutional-Neural-Networks/Part 2 - Convolutional Neural Networks/dataset/model_save/weights-13-0.85.h5\n",
            "250/250 [==============================] - 80s 320ms/step - loss: 0.4455 - accuracy: 0.8031 - val_loss: 0.3734 - val_accuracy: 0.8485\n",
            "Epoch 14/100\n",
            "250/250 [==============================] - ETA: 0s - loss: 0.4363 - accuracy: 0.8079\n",
            "Epoch 14: val_accuracy did not improve from 0.84850\n",
            "250/250 [==============================] - 80s 322ms/step - loss: 0.4363 - accuracy: 0.8079 - val_loss: 0.3923 - val_accuracy: 0.8215\n",
            "Epoch 15/100\n",
            "250/250 [==============================] - ETA: 0s - loss: 0.4317 - accuracy: 0.8086\n",
            "Epoch 15: val_accuracy did not improve from 0.84850\n",
            "250/250 [==============================] - 79s 317ms/step - loss: 0.4317 - accuracy: 0.8086 - val_loss: 0.5116 - val_accuracy: 0.7595\n",
            "Epoch 16/100\n",
            "250/250 [==============================] - ETA: 0s - loss: 0.4216 - accuracy: 0.8180\n",
            "Epoch 16: val_accuracy did not improve from 0.84850\n",
            "250/250 [==============================] - 80s 318ms/step - loss: 0.4216 - accuracy: 0.8180 - val_loss: 0.3849 - val_accuracy: 0.8275\n",
            "Epoch 17/100\n",
            "250/250 [==============================] - ETA: 0s - loss: 0.4215 - accuracy: 0.8160\n",
            "Epoch 17: val_accuracy improved from 0.84850 to 0.85000, saving model to /content/drive/MyDrive/DSs/CV_DS_1/P16-Convolutional-Neural-Networks/Part 2 - Convolutional Neural Networks/dataset/model_save/weights-17-0.85.h5\n",
            "250/250 [==============================] - 79s 316ms/step - loss: 0.4215 - accuracy: 0.8160 - val_loss: 0.3699 - val_accuracy: 0.8500\n",
            "Epoch 18/100\n",
            "250/250 [==============================] - ETA: 0s - loss: 0.4070 - accuracy: 0.8259\n",
            "Epoch 18: val_accuracy did not improve from 0.85000\n",
            "250/250 [==============================] - 79s 314ms/step - loss: 0.4070 - accuracy: 0.8259 - val_loss: 0.4380 - val_accuracy: 0.7945\n",
            "Epoch 19/100\n",
            "250/250 [==============================] - ETA: 0s - loss: 0.4035 - accuracy: 0.8238\n",
            "Epoch 19: val_accuracy did not improve from 0.85000\n",
            "250/250 [==============================] - 82s 329ms/step - loss: 0.4035 - accuracy: 0.8238 - val_loss: 0.3543 - val_accuracy: 0.8480\n",
            "Epoch 20/100\n",
            "250/250 [==============================] - ETA: 0s - loss: 0.3879 - accuracy: 0.8313\n",
            "Epoch 20: val_accuracy did not improve from 0.85000\n",
            "250/250 [==============================] - 79s 317ms/step - loss: 0.3879 - accuracy: 0.8313 - val_loss: 0.4236 - val_accuracy: 0.8265\n",
            "Epoch 21/100\n",
            "250/250 [==============================] - ETA: 0s - loss: 0.3897 - accuracy: 0.8340\n",
            "Epoch 21: val_accuracy improved from 0.85000 to 0.85300, saving model to /content/drive/MyDrive/DSs/CV_DS_1/P16-Convolutional-Neural-Networks/Part 2 - Convolutional Neural Networks/dataset/model_save/weights-21-0.85.h5\n",
            "250/250 [==============================] - 79s 316ms/step - loss: 0.3897 - accuracy: 0.8340 - val_loss: 0.3699 - val_accuracy: 0.8530\n",
            "Epoch 22/100\n",
            "250/250 [==============================] - ETA: 0s - loss: 0.3802 - accuracy: 0.8380\n",
            "Epoch 22: val_accuracy did not improve from 0.85300\n",
            "250/250 [==============================] - 78s 313ms/step - loss: 0.3802 - accuracy: 0.8380 - val_loss: 0.3525 - val_accuracy: 0.8460\n",
            "Epoch 23/100\n",
            "250/250 [==============================] - ETA: 0s - loss: 0.3742 - accuracy: 0.8403\n",
            "Epoch 23: val_accuracy did not improve from 0.85300\n",
            "250/250 [==============================] - 79s 316ms/step - loss: 0.3742 - accuracy: 0.8403 - val_loss: 1.1177 - val_accuracy: 0.5395\n",
            "Epoch 24/100\n",
            "250/250 [==============================] - ETA: 0s - loss: 0.3709 - accuracy: 0.8419\n",
            "Epoch 24: val_accuracy did not improve from 0.85300\n",
            "250/250 [==============================] - 78s 314ms/step - loss: 0.3709 - accuracy: 0.8419 - val_loss: 0.4673 - val_accuracy: 0.8055\n",
            "Epoch 25/100\n",
            "250/250 [==============================] - ETA: 0s - loss: 0.3664 - accuracy: 0.8469\n",
            "Epoch 25: val_accuracy did not improve from 0.85300\n",
            "250/250 [==============================] - 78s 314ms/step - loss: 0.3664 - accuracy: 0.8469 - val_loss: 0.3384 - val_accuracy: 0.8470\n",
            "Epoch 26/100\n",
            "250/250 [==============================] - ETA: 0s - loss: 0.3544 - accuracy: 0.8510\n",
            "Epoch 26: val_accuracy improved from 0.85300 to 0.86650, saving model to /content/drive/MyDrive/DSs/CV_DS_1/P16-Convolutional-Neural-Networks/Part 2 - Convolutional Neural Networks/dataset/model_save/weights-26-0.87.h5\n",
            "250/250 [==============================] - 78s 311ms/step - loss: 0.3544 - accuracy: 0.8510 - val_loss: 0.3408 - val_accuracy: 0.8665\n",
            "Epoch 27/100\n",
            "250/250 [==============================] - ETA: 0s - loss: 0.3532 - accuracy: 0.8474\n",
            "Epoch 27: val_accuracy did not improve from 0.86650\n",
            "250/250 [==============================] - 78s 313ms/step - loss: 0.3532 - accuracy: 0.8474 - val_loss: 0.3609 - val_accuracy: 0.8510\n",
            "Epoch 28/100\n",
            "250/250 [==============================] - ETA: 0s - loss: 0.3562 - accuracy: 0.8503\n",
            "Epoch 28: val_accuracy did not improve from 0.86650\n",
            "250/250 [==============================] - 78s 310ms/step - loss: 0.3562 - accuracy: 0.8503 - val_loss: 0.4715 - val_accuracy: 0.7995\n",
            "Epoch 29/100\n",
            "250/250 [==============================] - ETA: 0s - loss: 0.3449 - accuracy: 0.8529\n",
            "Epoch 29: val_accuracy did not improve from 0.86650\n",
            "250/250 [==============================] - 78s 310ms/step - loss: 0.3449 - accuracy: 0.8529 - val_loss: 0.3383 - val_accuracy: 0.8485\n",
            "Epoch 30/100\n",
            "250/250 [==============================] - ETA: 0s - loss: 0.3521 - accuracy: 0.8534\n",
            "Epoch 30: val_accuracy did not improve from 0.86650\n",
            "250/250 [==============================] - 78s 310ms/step - loss: 0.3521 - accuracy: 0.8534 - val_loss: 0.5487 - val_accuracy: 0.7400\n",
            "Epoch 31/100\n",
            "250/250 [==============================] - ETA: 0s - loss: 0.3389 - accuracy: 0.8585\n",
            "Epoch 31: val_accuracy did not improve from 0.86650\n",
            "250/250 [==============================] - 79s 317ms/step - loss: 0.3389 - accuracy: 0.8585 - val_loss: 0.5533 - val_accuracy: 0.7940\n",
            "Epoch 32/100\n",
            "250/250 [==============================] - ETA: 0s - loss: 0.3356 - accuracy: 0.8606\n",
            "Epoch 32: val_accuracy did not improve from 0.86650\n",
            "250/250 [==============================] - 79s 317ms/step - loss: 0.3356 - accuracy: 0.8606 - val_loss: 0.3845 - val_accuracy: 0.8340\n",
            "Epoch 33/100\n",
            "250/250 [==============================] - ETA: 0s - loss: 0.3282 - accuracy: 0.8615\n",
            "Epoch 33: val_accuracy did not improve from 0.86650\n",
            "250/250 [==============================] - 79s 314ms/step - loss: 0.3282 - accuracy: 0.8615 - val_loss: 0.3465 - val_accuracy: 0.8640\n",
            "Epoch 34/100\n",
            "250/250 [==============================] - ETA: 0s - loss: 0.3334 - accuracy: 0.8624\n",
            "Epoch 34: val_accuracy did not improve from 0.86650\n",
            "250/250 [==============================] - 79s 315ms/step - loss: 0.3334 - accuracy: 0.8624 - val_loss: 0.4226 - val_accuracy: 0.8110\n",
            "Epoch 35/100\n",
            "250/250 [==============================] - ETA: 0s - loss: 0.3213 - accuracy: 0.8705\n",
            "Epoch 35: val_accuracy did not improve from 0.86650\n",
            "250/250 [==============================] - 81s 325ms/step - loss: 0.3213 - accuracy: 0.8705 - val_loss: 0.3877 - val_accuracy: 0.8245\n",
            "Epoch 36/100\n",
            "250/250 [==============================] - ETA: 0s - loss: 0.3249 - accuracy: 0.8636\n",
            "Epoch 36: val_accuracy did not improve from 0.86650\n",
            "250/250 [==============================] - 79s 317ms/step - loss: 0.3249 - accuracy: 0.8636 - val_loss: 0.3989 - val_accuracy: 0.8320\n",
            "Epoch 37/100\n",
            "250/250 [==============================] - ETA: 0s - loss: 0.3290 - accuracy: 0.8650\n",
            "Epoch 37: val_accuracy did not improve from 0.86650\n",
            "250/250 [==============================] - 80s 319ms/step - loss: 0.3290 - accuracy: 0.8650 - val_loss: 0.5416 - val_accuracy: 0.7635\n",
            "Epoch 38/100\n",
            "250/250 [==============================] - ETA: 0s - loss: 0.3164 - accuracy: 0.8660\n",
            "Epoch 38: val_accuracy improved from 0.86650 to 0.88300, saving model to /content/drive/MyDrive/DSs/CV_DS_1/P16-Convolutional-Neural-Networks/Part 2 - Convolutional Neural Networks/dataset/model_save/weights-38-0.88.h5\n",
            "250/250 [==============================] - 81s 323ms/step - loss: 0.3164 - accuracy: 0.8660 - val_loss: 0.2905 - val_accuracy: 0.8830\n",
            "Epoch 39/100\n",
            "250/250 [==============================] - ETA: 0s - loss: 0.3165 - accuracy: 0.8683\n",
            "Epoch 39: val_accuracy did not improve from 0.88300\n",
            "250/250 [==============================] - 81s 323ms/step - loss: 0.3165 - accuracy: 0.8683 - val_loss: 0.2989 - val_accuracy: 0.8760\n",
            "Epoch 40/100\n",
            "250/250 [==============================] - ETA: 0s - loss: 0.3135 - accuracy: 0.8692\n",
            "Epoch 40: val_accuracy did not improve from 0.88300\n",
            "250/250 [==============================] - 80s 319ms/step - loss: 0.3135 - accuracy: 0.8692 - val_loss: 0.3310 - val_accuracy: 0.8530\n",
            "Epoch 41/100\n",
            "250/250 [==============================] - ETA: 0s - loss: 0.3046 - accuracy: 0.8755\n",
            "Epoch 41: val_accuracy did not improve from 0.88300\n",
            "250/250 [==============================] - 80s 320ms/step - loss: 0.3046 - accuracy: 0.8755 - val_loss: 0.5228 - val_accuracy: 0.8065\n",
            "Epoch 42/100\n",
            "250/250 [==============================] - ETA: 0s - loss: 0.3080 - accuracy: 0.8724\n",
            "Epoch 42: val_accuracy did not improve from 0.88300\n",
            "250/250 [==============================] - 78s 311ms/step - loss: 0.3080 - accuracy: 0.8724 - val_loss: 0.3210 - val_accuracy: 0.8640\n",
            "Epoch 43/100\n",
            "250/250 [==============================] - ETA: 0s - loss: 0.3110 - accuracy: 0.8684\n",
            "Epoch 43: val_accuracy did not improve from 0.88300\n",
            "250/250 [==============================] - 79s 315ms/step - loss: 0.3110 - accuracy: 0.8684 - val_loss: 0.3087 - val_accuracy: 0.8700\n",
            "Epoch 44/100\n",
            "250/250 [==============================] - ETA: 0s - loss: 0.3009 - accuracy: 0.8771\n",
            "Epoch 44: val_accuracy did not improve from 0.88300\n",
            "250/250 [==============================] - 79s 316ms/step - loss: 0.3009 - accuracy: 0.8771 - val_loss: 0.3121 - val_accuracy: 0.8755\n",
            "Epoch 45/100\n",
            "250/250 [==============================] - ETA: 0s - loss: 0.2987 - accuracy: 0.8750\n",
            "Epoch 45: val_accuracy did not improve from 0.88300\n",
            "250/250 [==============================] - 78s 313ms/step - loss: 0.2987 - accuracy: 0.8750 - val_loss: 0.2890 - val_accuracy: 0.8800\n",
            "Epoch 46/100\n",
            "250/250 [==============================] - ETA: 0s - loss: 0.2944 - accuracy: 0.8802\n",
            "Epoch 46: val_accuracy did not improve from 0.88300\n",
            "250/250 [==============================] - 80s 321ms/step - loss: 0.2944 - accuracy: 0.8802 - val_loss: 0.4718 - val_accuracy: 0.7980\n",
            "Epoch 47/100\n",
            "250/250 [==============================] - ETA: 0s - loss: 0.2816 - accuracy: 0.8846\n",
            "Epoch 47: val_accuracy improved from 0.88300 to 0.89100, saving model to /content/drive/MyDrive/DSs/CV_DS_1/P16-Convolutional-Neural-Networks/Part 2 - Convolutional Neural Networks/dataset/model_save/weights-47-0.89.h5\n",
            "250/250 [==============================] - 82s 328ms/step - loss: 0.2816 - accuracy: 0.8846 - val_loss: 0.2819 - val_accuracy: 0.8910\n",
            "Epoch 48/100\n",
            "250/250 [==============================] - ETA: 0s - loss: 0.2928 - accuracy: 0.8806\n",
            "Epoch 48: val_accuracy did not improve from 0.89100\n",
            "250/250 [==============================] - 82s 327ms/step - loss: 0.2928 - accuracy: 0.8806 - val_loss: 0.3178 - val_accuracy: 0.8680\n",
            "Epoch 49/100\n",
            "250/250 [==============================] - ETA: 0s - loss: 0.2950 - accuracy: 0.8823\n",
            "Epoch 49: val_accuracy did not improve from 0.89100\n",
            "250/250 [==============================] - 82s 330ms/step - loss: 0.2950 - accuracy: 0.8823 - val_loss: 0.3336 - val_accuracy: 0.8680\n",
            "Epoch 50/100\n",
            "250/250 [==============================] - ETA: 0s - loss: 0.2906 - accuracy: 0.8809\n",
            "Epoch 50: val_accuracy did not improve from 0.89100\n",
            "250/250 [==============================] - 82s 328ms/step - loss: 0.2906 - accuracy: 0.8809 - val_loss: 0.2885 - val_accuracy: 0.8880\n",
            "Epoch 51/100\n",
            "250/250 [==============================] - ETA: 0s - loss: 0.2805 - accuracy: 0.8840\n",
            "Epoch 51: val_accuracy did not improve from 0.89100\n",
            "250/250 [==============================] - 82s 327ms/step - loss: 0.2805 - accuracy: 0.8840 - val_loss: 0.5306 - val_accuracy: 0.8015\n",
            "Epoch 52/100\n",
            "250/250 [==============================] - ETA: 0s - loss: 0.2916 - accuracy: 0.8801\n",
            "Epoch 52: val_accuracy improved from 0.89100 to 0.89550, saving model to /content/drive/MyDrive/DSs/CV_DS_1/P16-Convolutional-Neural-Networks/Part 2 - Convolutional Neural Networks/dataset/model_save/weights-52-0.90.h5\n",
            "250/250 [==============================] - 80s 322ms/step - loss: 0.2916 - accuracy: 0.8801 - val_loss: 0.2665 - val_accuracy: 0.8955\n",
            "Epoch 53/100\n",
            "250/250 [==============================] - ETA: 0s - loss: 0.2786 - accuracy: 0.8848\n",
            "Epoch 53: val_accuracy did not improve from 0.89550\n",
            "250/250 [==============================] - 82s 326ms/step - loss: 0.2786 - accuracy: 0.8848 - val_loss: 0.3609 - val_accuracy: 0.8450\n",
            "Epoch 54/100\n",
            "250/250 [==============================] - ETA: 0s - loss: 0.2778 - accuracy: 0.8885\n",
            "Epoch 54: val_accuracy did not improve from 0.89550\n",
            "250/250 [==============================] - 83s 331ms/step - loss: 0.2778 - accuracy: 0.8885 - val_loss: 0.3090 - val_accuracy: 0.8810\n",
            "Epoch 55/100\n",
            "250/250 [==============================] - ETA: 0s - loss: 0.2740 - accuracy: 0.8873\n",
            "Epoch 55: val_accuracy did not improve from 0.89550\n",
            "250/250 [==============================] - 82s 327ms/step - loss: 0.2740 - accuracy: 0.8873 - val_loss: 0.4608 - val_accuracy: 0.8300\n",
            "Epoch 56/100\n",
            "250/250 [==============================] - ETA: 0s - loss: 0.2734 - accuracy: 0.8909\n",
            "Epoch 56: val_accuracy improved from 0.89550 to 0.90100, saving model to /content/drive/MyDrive/DSs/CV_DS_1/P16-Convolutional-Neural-Networks/Part 2 - Convolutional Neural Networks/dataset/model_save/weights-56-0.90.h5\n",
            "250/250 [==============================] - 84s 336ms/step - loss: 0.2734 - accuracy: 0.8909 - val_loss: 0.2619 - val_accuracy: 0.9010\n",
            "Epoch 57/100\n",
            "250/250 [==============================] - ETA: 0s - loss: 0.2772 - accuracy: 0.8876\n",
            "Epoch 57: val_accuracy did not improve from 0.90100\n",
            "250/250 [==============================] - 82s 330ms/step - loss: 0.2772 - accuracy: 0.8876 - val_loss: 0.4523 - val_accuracy: 0.8225\n",
            "Epoch 58/100\n",
            "250/250 [==============================] - ETA: 0s - loss: 0.2781 - accuracy: 0.8880\n",
            "Epoch 58: val_accuracy did not improve from 0.90100\n",
            "250/250 [==============================] - 84s 335ms/step - loss: 0.2781 - accuracy: 0.8880 - val_loss: 0.4931 - val_accuracy: 0.8100\n",
            "Epoch 59/100\n",
            "250/250 [==============================] - ETA: 0s - loss: 0.2699 - accuracy: 0.8916\n",
            "Epoch 59: val_accuracy improved from 0.90100 to 0.90400, saving model to /content/drive/MyDrive/DSs/CV_DS_1/P16-Convolutional-Neural-Networks/Part 2 - Convolutional Neural Networks/dataset/model_save/weights-59-0.90.h5\n",
            "250/250 [==============================] - 83s 331ms/step - loss: 0.2699 - accuracy: 0.8916 - val_loss: 0.2605 - val_accuracy: 0.9040\n",
            "Epoch 60/100\n",
            "250/250 [==============================] - ETA: 0s - loss: 0.2711 - accuracy: 0.8939\n",
            "Epoch 60: val_accuracy did not improve from 0.90400\n",
            "250/250 [==============================] - 84s 337ms/step - loss: 0.2711 - accuracy: 0.8939 - val_loss: 1.0169 - val_accuracy: 0.6105\n",
            "Epoch 61/100\n",
            "250/250 [==============================] - ETA: 0s - loss: 0.2557 - accuracy: 0.8995\n",
            "Epoch 61: val_accuracy did not improve from 0.90400\n",
            "250/250 [==============================] - 83s 331ms/step - loss: 0.2557 - accuracy: 0.8995 - val_loss: 0.3252 - val_accuracy: 0.8775\n",
            "Epoch 62/100\n",
            "250/250 [==============================] - ETA: 0s - loss: 0.2548 - accuracy: 0.8945\n",
            "Epoch 62: val_accuracy did not improve from 0.90400\n",
            "250/250 [==============================] - 84s 337ms/step - loss: 0.2548 - accuracy: 0.8945 - val_loss: 2.1113 - val_accuracy: 0.5425\n",
            "Epoch 63/100\n",
            "250/250 [==============================] - ETA: 0s - loss: 0.2599 - accuracy: 0.8936\n",
            "Epoch 63: val_accuracy did not improve from 0.90400\n",
            "250/250 [==============================] - 84s 335ms/step - loss: 0.2599 - accuracy: 0.8936 - val_loss: 0.3741 - val_accuracy: 0.8495\n",
            "Epoch 64/100\n",
            "250/250 [==============================] - ETA: 0s - loss: 0.2640 - accuracy: 0.8930\n",
            "Epoch 64: val_accuracy did not improve from 0.90400\n",
            "250/250 [==============================] - 82s 328ms/step - loss: 0.2640 - accuracy: 0.8930 - val_loss: 0.3466 - val_accuracy: 0.8665\n",
            "Epoch 65/100\n",
            "250/250 [==============================] - ETA: 0s - loss: 0.2610 - accuracy: 0.8944\n",
            "Epoch 65: val_accuracy did not improve from 0.90400\n",
            "250/250 [==============================] - 81s 325ms/step - loss: 0.2610 - accuracy: 0.8944 - val_loss: 0.4721 - val_accuracy: 0.8025\n",
            "Epoch 66/100\n",
            "250/250 [==============================] - ETA: 0s - loss: 0.2564 - accuracy: 0.8979\n",
            "Epoch 66: val_accuracy did not improve from 0.90400\n",
            "250/250 [==============================] - 82s 327ms/step - loss: 0.2564 - accuracy: 0.8979 - val_loss: 0.2699 - val_accuracy: 0.8960\n",
            "Epoch 67/100\n",
            "250/250 [==============================] - ETA: 0s - loss: 0.2565 - accuracy: 0.8963\n",
            "Epoch 67: val_accuracy did not improve from 0.90400\n",
            "250/250 [==============================] - 82s 327ms/step - loss: 0.2565 - accuracy: 0.8963 - val_loss: 0.2624 - val_accuracy: 0.8910\n",
            "Epoch 68/100\n",
            "250/250 [==============================] - ETA: 0s - loss: 0.2424 - accuracy: 0.9016\n",
            "Epoch 68: val_accuracy did not improve from 0.90400\n",
            "250/250 [==============================] - 82s 327ms/step - loss: 0.2424 - accuracy: 0.9016 - val_loss: 0.2883 - val_accuracy: 0.8870\n",
            "Epoch 69/100\n",
            "250/250 [==============================] - ETA: 0s - loss: 0.2584 - accuracy: 0.8967\n",
            "Epoch 69: val_accuracy did not improve from 0.90400\n",
            "250/250 [==============================] - 82s 328ms/step - loss: 0.2584 - accuracy: 0.8967 - val_loss: 0.2991 - val_accuracy: 0.8860\n",
            "Epoch 70/100\n",
            "250/250 [==============================] - ETA: 0s - loss: 0.2532 - accuracy: 0.8994\n",
            "Epoch 70: val_accuracy did not improve from 0.90400\n",
            "250/250 [==============================] - 82s 329ms/step - loss: 0.2532 - accuracy: 0.8994 - val_loss: 0.2587 - val_accuracy: 0.8985\n",
            "Epoch 71/100\n",
            "250/250 [==============================] - ETA: 0s - loss: 0.2501 - accuracy: 0.9049\n",
            "Epoch 71: val_accuracy did not improve from 0.90400\n",
            "250/250 [==============================] - 84s 336ms/step - loss: 0.2501 - accuracy: 0.9049 - val_loss: 0.2512 - val_accuracy: 0.8985\n",
            "Epoch 72/100\n",
            "250/250 [==============================] - ETA: 0s - loss: 0.2454 - accuracy: 0.9003\n",
            "Epoch 72: val_accuracy did not improve from 0.90400\n",
            "250/250 [==============================] - 83s 330ms/step - loss: 0.2454 - accuracy: 0.9003 - val_loss: 0.2484 - val_accuracy: 0.9020\n",
            "Epoch 73/100\n",
            "250/250 [==============================] - ETA: 0s - loss: 0.2463 - accuracy: 0.8984\n",
            "Epoch 73: val_accuracy did not improve from 0.90400\n",
            "250/250 [==============================] - 85s 340ms/step - loss: 0.2463 - accuracy: 0.8984 - val_loss: 0.2705 - val_accuracy: 0.8985\n",
            "Epoch 74/100\n",
            "250/250 [==============================] - ETA: 0s - loss: 0.2414 - accuracy: 0.9010\n",
            "Epoch 74: val_accuracy improved from 0.90400 to 0.90450, saving model to /content/drive/MyDrive/DSs/CV_DS_1/P16-Convolutional-Neural-Networks/Part 2 - Convolutional Neural Networks/dataset/model_save/weights-74-0.90.h5\n",
            "250/250 [==============================] - 82s 329ms/step - loss: 0.2414 - accuracy: 0.9010 - val_loss: 0.2595 - val_accuracy: 0.9045\n",
            "Epoch 75/100\n",
            "250/250 [==============================] - ETA: 0s - loss: 0.2504 - accuracy: 0.8986\n",
            "Epoch 75: val_accuracy did not improve from 0.90450\n",
            "250/250 [==============================] - 83s 330ms/step - loss: 0.2504 - accuracy: 0.8986 - val_loss: 0.3008 - val_accuracy: 0.8915\n",
            "Epoch 76/100\n",
            "250/250 [==============================] - ETA: 0s - loss: 0.2399 - accuracy: 0.9061\n",
            "Epoch 76: val_accuracy did not improve from 0.90450\n",
            "250/250 [==============================] - 85s 339ms/step - loss: 0.2399 - accuracy: 0.9061 - val_loss: 0.2766 - val_accuracy: 0.8940\n",
            "Epoch 77/100\n",
            "250/250 [==============================] - ETA: 0s - loss: 0.2445 - accuracy: 0.9071\n",
            "Epoch 77: val_accuracy did not improve from 0.90450\n",
            "250/250 [==============================] - 84s 335ms/step - loss: 0.2445 - accuracy: 0.9071 - val_loss: 0.4455 - val_accuracy: 0.8370\n",
            "Epoch 78/100\n",
            "250/250 [==============================] - ETA: 0s - loss: 0.2320 - accuracy: 0.9056\n",
            "Epoch 78: val_accuracy did not improve from 0.90450\n",
            "250/250 [==============================] - 86s 343ms/step - loss: 0.2320 - accuracy: 0.9056 - val_loss: 0.3836 - val_accuracy: 0.8655\n",
            "Epoch 79/100\n",
            "250/250 [==============================] - ETA: 0s - loss: 0.2401 - accuracy: 0.9053\n",
            "Epoch 79: val_accuracy did not improve from 0.90450\n",
            "250/250 [==============================] - 86s 345ms/step - loss: 0.2401 - accuracy: 0.9053 - val_loss: 0.3418 - val_accuracy: 0.8730\n",
            "Epoch 80/100\n",
            "250/250 [==============================] - ETA: 0s - loss: 0.2365 - accuracy: 0.9056\n",
            "Epoch 80: val_accuracy did not improve from 0.90450\n",
            "250/250 [==============================] - 86s 343ms/step - loss: 0.2365 - accuracy: 0.9056 - val_loss: 0.5687 - val_accuracy: 0.7870\n",
            "Epoch 81/100\n",
            "250/250 [==============================] - ETA: 0s - loss: 0.2380 - accuracy: 0.9045\n",
            "Epoch 81: val_accuracy did not improve from 0.90450\n",
            "250/250 [==============================] - 86s 345ms/step - loss: 0.2380 - accuracy: 0.9045 - val_loss: 0.6957 - val_accuracy: 0.7830\n",
            "Epoch 82/100\n",
            "250/250 [==============================] - ETA: 0s - loss: 0.2375 - accuracy: 0.9047\n",
            "Epoch 82: val_accuracy did not improve from 0.90450\n",
            "250/250 [==============================] - 85s 342ms/step - loss: 0.2375 - accuracy: 0.9047 - val_loss: 0.4843 - val_accuracy: 0.8210\n",
            "Epoch 83/100\n",
            "250/250 [==============================] - ETA: 0s - loss: 0.2328 - accuracy: 0.9080\n",
            "Epoch 83: val_accuracy did not improve from 0.90450\n",
            "250/250 [==============================] - 86s 342ms/step - loss: 0.2328 - accuracy: 0.9080 - val_loss: 0.6536 - val_accuracy: 0.7875\n",
            "Epoch 84/100\n",
            "250/250 [==============================] - ETA: 0s - loss: 0.2292 - accuracy: 0.9065\n",
            "Epoch 84: val_accuracy improved from 0.90450 to 0.91950, saving model to /content/drive/MyDrive/DSs/CV_DS_1/P16-Convolutional-Neural-Networks/Part 2 - Convolutional Neural Networks/dataset/model_save/weights-84-0.92.h5\n",
            "250/250 [==============================] - 86s 344ms/step - loss: 0.2292 - accuracy: 0.9065 - val_loss: 0.2297 - val_accuracy: 0.9195\n",
            "Epoch 85/100\n",
            "250/250 [==============================] - ETA: 0s - loss: 0.2284 - accuracy: 0.9094\n",
            "Epoch 85: val_accuracy did not improve from 0.91950\n",
            "250/250 [==============================] - 85s 340ms/step - loss: 0.2284 - accuracy: 0.9094 - val_loss: 0.2671 - val_accuracy: 0.9045\n",
            "Epoch 86/100\n",
            "250/250 [==============================] - ETA: 0s - loss: 0.2265 - accuracy: 0.9093\n",
            "Epoch 86: val_accuracy did not improve from 0.91950\n",
            "250/250 [==============================] - 82s 328ms/step - loss: 0.2265 - accuracy: 0.9093 - val_loss: 0.3008 - val_accuracy: 0.8840\n",
            "Epoch 87/100\n",
            "250/250 [==============================] - ETA: 0s - loss: 0.2252 - accuracy: 0.9080\n",
            "Epoch 87: val_accuracy did not improve from 0.91950\n",
            "250/250 [==============================] - 81s 326ms/step - loss: 0.2252 - accuracy: 0.9080 - val_loss: 0.3382 - val_accuracy: 0.8820\n",
            "Epoch 88/100\n",
            "250/250 [==============================] - ETA: 0s - loss: 0.2325 - accuracy: 0.9078\n",
            "Epoch 88: val_accuracy did not improve from 0.91950\n",
            "250/250 [==============================] - 81s 325ms/step - loss: 0.2325 - accuracy: 0.9078 - val_loss: 0.7826 - val_accuracy: 0.7605\n",
            "Epoch 89/100\n",
            "250/250 [==============================] - ETA: 0s - loss: 0.2249 - accuracy: 0.9118\n",
            "Epoch 89: val_accuracy did not improve from 0.91950\n",
            "250/250 [==============================] - 84s 334ms/step - loss: 0.2249 - accuracy: 0.9118 - val_loss: 0.2611 - val_accuracy: 0.9015\n",
            "Epoch 90/100\n",
            " 91/250 [=========>....................] - ETA: 46s - loss: 0.2226 - accuracy: 0.9141"
          ]
        }
      ]
    },
    {
      "cell_type": "code",
      "source": [
        "cnn.save(main_path+\"/custom_cnn_model_2.h5\")"
      ],
      "metadata": {
        "id": "KfNxTkVTHyJs"
      },
      "execution_count": null,
      "outputs": []
    },
    {
      "cell_type": "code",
      "source": [
        "cnn = tf.keras.models.load_model(main_path + 'model_save/weights-84-0.92.h5') # Uploading saved weight of 92% validation accuracy of 84rth epoch."
      ],
      "metadata": {
        "id": "TPf4z4SP_tb9"
      },
      "execution_count": 15,
      "outputs": []
    },
    {
      "cell_type": "markdown",
      "metadata": {
        "id": "U3PZasO0006Z"
      },
      "source": [
        "## Part 4 - Making a single prediction"
      ]
    },
    {
      "cell_type": "code",
      "metadata": {
        "id": "gsSiWEJY1BPB"
      },
      "source": [
        "test_image = image.load_img(main_path + 'single_prediction/cat_or_dog_2.jpg', target_size = (128, 128))\n",
        "test_image = image.img_to_array(test_image)\n",
        "test_image = np.expand_dims(test_image, axis = 0)\n",
        "result = cnn.predict(test_image)\n",
        "training_set.class_indices\n",
        "if result[0][0] == 1:\n",
        "  prediction = 'dog'\n",
        "else:\n",
        "  prediction = 'cat'"
      ],
      "execution_count": 16,
      "outputs": []
    },
    {
      "cell_type": "code",
      "source": [
        "import matplotlib.pyplot as plt\n",
        "test_image = image.load_img(main_path + 'single_prediction/cat_or_dog_2.jpg', target_size = (128, 128))\n",
        "plt.imshow(test_image)"
      ],
      "metadata": {
        "id": "mQKIk1s5EKej",
        "colab": {
          "base_uri": "https://localhost:8080/",
          "height": 285
        },
        "outputId": "a5a71a9b-a6f5-4636-ffc4-4cf7978434dc"
      },
      "execution_count": 17,
      "outputs": [
        {
          "output_type": "execute_result",
          "data": {
            "text/plain": [
              "<matplotlib.image.AxesImage at 0x7f6b9d1223d0>"
            ]
          },
          "metadata": {},
          "execution_count": 17
        },
        {
          "output_type": "display_data",
          "data": {
            "text/plain": [
              "<Figure size 432x288 with 1 Axes>"
            ],
            "image/png": "[encoded data removed]"
          },
          "metadata": {
            "needs_background": "light"
          }
        }
      ]
    },
    {
      "cell_type": "code",
      "metadata": {
        "id": "ED9KB3I54c1i",
        "colab": {
          "base_uri": "https://localhost:8080/"
        },
        "outputId": "88659950-203b-44bd-b6a4-73905f64e431"
      },
      "source": [
        "print(prediction)"
      ],
      "execution_count": 18,
      "outputs": [
        {
          "output_type": "stream",
          "name": "stdout",
          "text": [
            "cat\n"
          ]
        }
      ]
    }
  ]
}
